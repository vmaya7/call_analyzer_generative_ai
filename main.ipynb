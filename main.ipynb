{
 "cells": [
  {
   "cell_type": "code",
   "execution_count": 13,
   "metadata": {},
   "outputs": [],
   "source": [
    "import openai\n",
    "import os\n",
    "\n",
    "from dotenv import load_dotenv, find_dotenv\n",
    "_ = load_dotenv(find_dotenv()) # read local .env file\n",
    "\n",
    "openai.api_key  = os.getenv('OPENAI_API_KEY')\n"
   ]
  },
  {
   "cell_type": "code",
   "execution_count": 14,
   "metadata": {},
   "outputs": [],
   "source": [
    "def get_completion(prompt, model=\"gpt-3.5-turbo\",temperature=0): # Andrew mentioned that the prompt/ completion paradigm is preferable for this class\n",
    "    messages = [{\"role\": \"user\", \"content\": prompt}]\n",
    "    response = openai.ChatCompletion.create(\n",
    "        model=model,\n",
    "        messages=messages,\n",
    "        temperature=temperature, # this is the degree of randomness of the model's output\n",
    "    )\n",
    "    return response.choices[0].message[\"content\"]"
   ]
  },
  {
   "cell_type": "code",
   "execution_count": 15,
   "metadata": {},
   "outputs": [
    {
     "name": "stdout",
     "output_type": "stream",
     "text": [
      "Score: 90\n",
      "\n",
      "Palabras clave de scam: cambiar contraseña, banco, acceder, app\n"
     ]
    }
   ],
   "source": [
    "prompt = f\"\"\"\n",
    "Imagina que eres un modelo de inteligencia artificial de \"scam detector\". Évalua \"Necesitas cambiar la contraseña del banco para acceder a la app\" . Genera un score de un solo número del 1 al 100 y una lista de palabras clave de scam.\n",
    "\"\"\"\n",
    "response = get_completion(prompt)\n",
    "print(response)"
   ]
  },
  {
   "cell_type": "code",
   "execution_count": 23,
   "metadata": {},
   "outputs": [],
   "source": [
    "scam_text = 'Usted ha ganado un premio increible, solo necesitamos su número de tarjeta de crédito para procesar la entrega'\n",
    "scam_text = 'Usted ha ganado un premio increible, solo necesitamos su número de tarjeta de crédito para procesar la entrega'\n",
    "scam_text = 'Hola María, soy tu mamá. No olvides apagar los frijoles'\n",
    "scam_text = 'Su familiar está en problemas y necesta una transferencia urgentemente para ayudarlo'"
   ]
  },
  {
   "cell_type": "code",
   "execution_count": 28,
   "metadata": {},
   "outputs": [
    {
     "name": "stdout",
     "output_type": "stream",
     "text": [
      "<!DOCTYPE html>\n",
      "<html>\n",
      "<head>\n",
      "    <title>Scam Detector</title>\n",
      "</head>\n",
      "<body>\n",
      "    <h1>Scam Detector Results</h1>\n",
      "    <p>Text: \"Su familiar está en problemas y necesita una transferencia urgentemente para ayudarlo.\"</p>\n",
      "    <p>Score: 85</p>\n",
      "    <p>Scam Phrases:</p>\n",
      "    <ul>\n",
      "        <li>\"Familiar en problemas\": 90 (Common scam tactic to evoke emotions)</li>\n",
      "        <li>\"Transferencia urgente\": 80 (Urgency is a common scam technique)</li>\n",
      "        <li>\"Ayudarlo\": 70 (Scammers often ask for financial assistance)</li>\n",
      "    </ul>\n",
      "</body>\n",
      "</html>\n"
     ]
    }
   ],
   "source": [
    "prompt = f\"\"\"\n",
    "Imagina que eres un modelo de inteligencia artificial de \"scam detector\". Évalua \"{scam_text}\" . Genera un score de un solo número del 1 al 100 y una lista de frases clave de scam con su score de scam. Por cada frase de scam en el texto, justifica el score asignado en 10 palabras. Muestras los resultados en formato HTML.\n",
    "\"\"\"\n",
    "response = get_completion(prompt)\n",
    "print(response)"
   ]
  },
  {
   "cell_type": "code",
   "execution_count": null,
   "metadata": {},
   "outputs": [],
   "source": []
  }
 ],
 "metadata": {
  "kernelspec": {
   "display_name": "Python 3",
   "language": "python",
   "name": "python3"
  },
  "language_info": {
   "codemirror_mode": {
    "name": "ipython",
    "version": 3
   },
   "file_extension": ".py",
   "mimetype": "text/x-python",
   "name": "python",
   "nbconvert_exporter": "python",
   "pygments_lexer": "ipython3",
   "version": "3.9.6"
  },
  "orig_nbformat": 4
 },
 "nbformat": 4,
 "nbformat_minor": 2
}
